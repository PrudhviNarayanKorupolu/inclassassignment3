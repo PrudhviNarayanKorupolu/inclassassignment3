{
  "nbformat": 4,
  "nbformat_minor": 0,
  "metadata": {
    "kernelspec": {
      "display_name": "Python 3",
      "language": "python",
      "name": "python3"
    },
    "language_info": {
      "codemirror_mode": {
        "name": "ipython",
        "version": 3
      },
      "file_extension": ".py",
      "mimetype": "text/x-python",
      "name": "python",
      "nbconvert_exporter": "python",
      "pygments_lexer": "ipython3",
      "version": "3.8.5"
    },
    "colab": {
      "name": "In-class-exercise-03.ipynb",
      "provenance": [],
      "collapsed_sections": [],
      "include_colab_link": true
    }
  },
  "cells": [
    {
      "cell_type": "markdown",
      "metadata": {
        "id": "view-in-github",
        "colab_type": "text"
      },
      "source": [
        "<a href=\"https://colab.research.google.com/github/PrudhviNarayanKorupolu/inclassassignment3/blob/main/In_class_exercise_03.ipynb\" target=\"_parent\"><img src=\"https://colab.research.google.com/assets/colab-badge.svg\" alt=\"Open In Colab\"/></a>"
      ]
    },
    {
      "cell_type": "markdown",
      "metadata": {
        "id": "eQth733ZhTox"
      },
      "source": [
        "## The third In-class-exercise (9/29/2021, 40 points in total)"
      ]
    },
    {
      "cell_type": "markdown",
      "metadata": {
        "id": "Q6RQmksahToz"
      },
      "source": [
        "The purpose of this exercise is to understand text representation."
      ]
    },
    {
      "cell_type": "markdown",
      "metadata": {
        "id": "UFmOsfBJhToz"
      },
      "source": [
        "Question 1 (10 points): Describe an interesting text classification or text mining task and explain what kind of features might be useful for you to build the machine learning model. List your features and explain why these features might be helpful. You need to list at least five different types of features."
      ]
    },
    {
      "cell_type": "code",
      "metadata": {
        "id": "LAKLSaNxhTo0"
      },
      "source": [
        "# Your answer here (no code for this question, write down your answer as detail as possible for the above questions):\n",
        "\n",
        "'''\n",
        "Please write you answer here:\n",
        "Learning Algorithms.which are used totrain the data. Supervised learning  is a machine learning task that establishes the mathematical relationship\n",
        "Hyperparameter Optimization are essentially parameters of the machine learning algorithm that directly impacts the learning process and prediction performance\n",
        "Feature Selection.Feature Selection\n",
        "As the name implies, feature selection is literally the process of selecting a subset of features from an initially large volume of features. Aside from achieving\n",
        "highly accurate models, one of the most important aspect of machine learning model building is to obtain actionable insights and in order to achieve that it is important\n",
        "to be able to select a subset of important features from the vast number.\n",
        "Classification\n",
        "A trained classification model takes as input a set of variables either quantitative or qualitative and predicts the output class label (qualitative).\n",
        "performance metrics which are used to analyse the data using differnt methods to get a brief knowledge about the data.\n",
        "Descriptive statistics\n",
        "\n",
        "\n",
        "\n",
        "'''"
      ],
      "execution_count": null,
      "outputs": []
    },
    {
      "cell_type": "markdown",
      "metadata": {
        "id": "CschoxE4hTo1"
      },
      "source": [
        "Question 2 (20 points): Write python code to extract these features you discussed above. You can collect a few sample text data for the feature extraction. "
      ]
    },
    {
      "cell_type": "code",
      "metadata": {
        "colab": {
          "base_uri": "https://localhost:8080/"
        },
        "id": "hjLIm9ds-hlu",
        "outputId": "0420d85d-0c95-46f7-f914-88ee322b5e07"
      },
      "source": [
        "nltk.download('stopwords')"
      ],
      "execution_count": null,
      "outputs": [
        {
          "output_type": "stream",
          "name": "stdout",
          "text": [
            "[nltk_data] Downloading package stopwords to /root/nltk_data...\n",
            "[nltk_data]   Unzipping corpora/stopwords.zip.\n"
          ]
        },
        {
          "output_type": "execute_result",
          "data": {
            "text/plain": [
              "True"
            ]
          },
          "metadata": {},
          "execution_count": 2
        }
      ]
    },
    {
      "cell_type": "code",
      "metadata": {
        "id": "lHbrF2q3hTo1"
      },
      "source": [
        "import pandas as pd\n",
        "import matplotlib.pyplot as plt\n",
        "import re\n",
        "import numpy as np \n",
        "import matplotlib.pyplot as plt \n",
        "import seaborn as sns\n",
        "import string\n",
        "import nltk\n",
        "import warnings \n",
        "%matplotlib inline\n",
        "warnings.filterwarnings(\"ignore\", category=DeprecationWarning)\n",
        "from nltk.corpus import stopwords\n",
        "stop = stopwords.words('english')\n",
        "\n",
        "\n"
      ],
      "execution_count": null,
      "outputs": []
    },
    {
      "cell_type": "code",
      "metadata": {
        "colab": {
          "base_uri": "https://localhost:8080/",
          "height": 221
        },
        "id": "Xhncpzxb-qJh",
        "outputId": "a105ece6-6323-4edd-a1c0-08643470184a"
      },
      "source": [
        "#importing dataset\n",
        "df = pd.read_csv('/content/dataset.csv', encoding=\"utf8\")\n",
        "print(df.shape)\n",
        "df.head(5)"
      ],
      "execution_count": null,
      "outputs": [
        {
          "output_type": "stream",
          "name": "stdout",
          "text": [
            "(3798, 2)\n"
          ]
        },
        {
          "output_type": "execute_result",
          "data": {
            "text/html": [
              "<div>\n",
              "<style scoped>\n",
              "    .dataframe tbody tr th:only-of-type {\n",
              "        vertical-align: middle;\n",
              "    }\n",
              "\n",
              "    .dataframe tbody tr th {\n",
              "        vertical-align: top;\n",
              "    }\n",
              "\n",
              "    .dataframe thead th {\n",
              "        text-align: right;\n",
              "    }\n",
              "</style>\n",
              "<table border=\"1\" class=\"dataframe\">\n",
              "  <thead>\n",
              "    <tr style=\"text-align: right;\">\n",
              "      <th></th>\n",
              "      <th>Text</th>\n",
              "      <th>sentiment</th>\n",
              "    </tr>\n",
              "  </thead>\n",
              "  <tbody>\n",
              "    <tr>\n",
              "      <th>0</th>\n",
              "      <td>TRENDING: New Yorkers encounter empty supermar...</td>\n",
              "      <td>-1</td>\n",
              "    </tr>\n",
              "    <tr>\n",
              "      <th>1</th>\n",
              "      <td>When I couldn't find hand sanitizer at Fred Me...</td>\n",
              "      <td>1</td>\n",
              "    </tr>\n",
              "    <tr>\n",
              "      <th>2</th>\n",
              "      <td>Find out how you can protect yourself and love...</td>\n",
              "      <td>1</td>\n",
              "    </tr>\n",
              "    <tr>\n",
              "      <th>3</th>\n",
              "      <td>#Panic buying hits #NewYork City as anxious sh...</td>\n",
              "      <td>-1</td>\n",
              "    </tr>\n",
              "    <tr>\n",
              "      <th>4</th>\n",
              "      <td>#toiletpaper #dunnypaper #coronavirus #coronav...</td>\n",
              "      <td>0</td>\n",
              "    </tr>\n",
              "  </tbody>\n",
              "</table>\n",
              "</div>"
            ],
            "text/plain": [
              "                                                Text  sentiment\n",
              "0  TRENDING: New Yorkers encounter empty supermar...         -1\n",
              "1  When I couldn't find hand sanitizer at Fred Me...          1\n",
              "2  Find out how you can protect yourself and love...          1\n",
              "3  #Panic buying hits #NewYork City as anxious sh...         -1\n",
              "4  #toiletpaper #dunnypaper #coronavirus #coronav...          0"
            ]
          },
          "metadata": {},
          "execution_count": 4
        }
      ]
    },
    {
      "cell_type": "code",
      "metadata": {
        "colab": {
          "base_uri": "https://localhost:8080/",
          "height": 204
        },
        "id": "ojA4LVDe-4Nu",
        "outputId": "e42db81d-635c-446b-d068-1f412457ef4f"
      },
      "source": [
        "#lableing the dataset on average\n",
        "conditions = [\n",
        "    (df['sentiment'] == -1), # -1 means negaive result\n",
        "    (df['sentiment'] == 0), # 0 means neutral result\n",
        "    (df['sentiment'] == 1), # 1 means possitive result\n",
        "]\n",
        "\n",
        "# create a list of the values we want to assign for each condition\n",
        "values = ['Negative', 'Neutral', 'Positive']\n",
        "\n",
        "df['result'] = np.select(conditions, values)\n",
        "\n",
        "df.head()"
      ],
      "execution_count": null,
      "outputs": [
        {
          "output_type": "execute_result",
          "data": {
            "text/html": [
              "<div>\n",
              "<style scoped>\n",
              "    .dataframe tbody tr th:only-of-type {\n",
              "        vertical-align: middle;\n",
              "    }\n",
              "\n",
              "    .dataframe tbody tr th {\n",
              "        vertical-align: top;\n",
              "    }\n",
              "\n",
              "    .dataframe thead th {\n",
              "        text-align: right;\n",
              "    }\n",
              "</style>\n",
              "<table border=\"1\" class=\"dataframe\">\n",
              "  <thead>\n",
              "    <tr style=\"text-align: right;\">\n",
              "      <th></th>\n",
              "      <th>Text</th>\n",
              "      <th>sentiment</th>\n",
              "      <th>result</th>\n",
              "    </tr>\n",
              "  </thead>\n",
              "  <tbody>\n",
              "    <tr>\n",
              "      <th>0</th>\n",
              "      <td>TRENDING: New Yorkers encounter empty supermar...</td>\n",
              "      <td>-1</td>\n",
              "      <td>Negative</td>\n",
              "    </tr>\n",
              "    <tr>\n",
              "      <th>1</th>\n",
              "      <td>When I couldn't find hand sanitizer at Fred Me...</td>\n",
              "      <td>1</td>\n",
              "      <td>Positive</td>\n",
              "    </tr>\n",
              "    <tr>\n",
              "      <th>2</th>\n",
              "      <td>Find out how you can protect yourself and love...</td>\n",
              "      <td>1</td>\n",
              "      <td>Positive</td>\n",
              "    </tr>\n",
              "    <tr>\n",
              "      <th>3</th>\n",
              "      <td>#Panic buying hits #NewYork City as anxious sh...</td>\n",
              "      <td>-1</td>\n",
              "      <td>Negative</td>\n",
              "    </tr>\n",
              "    <tr>\n",
              "      <th>4</th>\n",
              "      <td>#toiletpaper #dunnypaper #coronavirus #coronav...</td>\n",
              "      <td>0</td>\n",
              "      <td>Neutral</td>\n",
              "    </tr>\n",
              "  </tbody>\n",
              "</table>\n",
              "</div>"
            ],
            "text/plain": [
              "                                                Text  sentiment    result\n",
              "0  TRENDING: New Yorkers encounter empty supermar...         -1  Negative\n",
              "1  When I couldn't find hand sanitizer at Fred Me...          1  Positive\n",
              "2  Find out how you can protect yourself and love...          1  Positive\n",
              "3  #Panic buying hits #NewYork City as anxious sh...         -1  Negative\n",
              "4  #toiletpaper #dunnypaper #coronavirus #coronav...          0   Neutral"
            ]
          },
          "metadata": {},
          "execution_count": 5
        }
      ]
    },
    {
      "cell_type": "code",
      "metadata": {
        "colab": {
          "base_uri": "https://localhost:8080/"
        },
        "id": "ItHiGCq5_FEk",
        "outputId": "7573cd41-f02b-4dc1-a9e7-b13e99a9a88e"
      },
      "source": [
        "df.groupby('result')['Text'].count()"
      ],
      "execution_count": null,
      "outputs": [
        {
          "output_type": "execute_result",
          "data": {
            "text/plain": [
              "result\n",
              "Negative    1633\n",
              "Neutral      619\n",
              "Positive    1546\n",
              "Name: Text, dtype: int64"
            ]
          },
          "metadata": {},
          "execution_count": 6
        }
      ]
    },
    {
      "cell_type": "code",
      "metadata": {
        "colab": {
          "base_uri": "https://localhost:8080/"
        },
        "id": "OBTmfMvm_Mqv",
        "outputId": "57cd7d22-ce57-44f0-b080-8f01cdefa218"
      },
      "source": [
        "df.groupby('result')['sentiment'].mean()"
      ],
      "execution_count": null,
      "outputs": [
        {
          "output_type": "execute_result",
          "data": {
            "text/plain": [
              "result\n",
              "Negative   -1\n",
              "Neutral     0\n",
              "Positive    1\n",
              "Name: sentiment, dtype: int64"
            ]
          },
          "metadata": {},
          "execution_count": 7
        }
      ]
    },
    {
      "cell_type": "code",
      "metadata": {
        "colab": {
          "base_uri": "https://localhost:8080/"
        },
        "id": "P4e9EqSA_TtD",
        "outputId": "079e4304-8f3d-45ff-91d6-e8f5a2de57ca"
      },
      "source": [
        "df['character_cnt'] = df['Text'].str.len()\n",
        "print(df.groupby('result')['character_cnt'].mean())\n",
        "print(df.head())"
      ],
      "execution_count": null,
      "outputs": [
        {
          "output_type": "stream",
          "name": "stdout",
          "text": [
            "result\n",
            "Negative    220.601347\n",
            "Neutral     167.849758\n",
            "Positive    224.115783\n",
            "Name: character_cnt, dtype: float64\n",
            "                                                Text  ...  character_cnt\n",
            "0  TRENDING: New Yorkers encounter empty supermar...  ...            228\n",
            "1  When I couldn't find hand sanitizer at Fred Me...  ...            193\n",
            "2  Find out how you can protect yourself and love...  ...             73\n",
            "3  #Panic buying hits #NewYork City as anxious sh...  ...            318\n",
            "4  #toiletpaper #dunnypaper #coronavirus #coronav...  ...            252\n",
            "\n",
            "[5 rows x 4 columns]\n"
          ]
        }
      ]
    },
    {
      "cell_type": "code",
      "metadata": {
        "colab": {
          "base_uri": "https://localhost:8080/"
        },
        "id": "mlBFfcLx_Vcu",
        "outputId": "b2fc9397-d4c0-4a53-994a-875993df1a5d"
      },
      "source": [
        "df['word_counts'] = df['Text'].str.split().str.len()\n",
        "print(df.groupby('result')['word_counts'].mean())\n",
        "print(df.head())"
      ],
      "execution_count": null,
      "outputs": [
        {
          "output_type": "stream",
          "name": "stdout",
          "text": [
            "result\n",
            "Negative    34.537048\n",
            "Neutral     23.920840\n",
            "Positive    34.789780\n",
            "Name: word_counts, dtype: float64\n",
            "                                                Text  ...  word_counts\n",
            "0  TRENDING: New Yorkers encounter empty supermar...  ...           23\n",
            "1  When I couldn't find hand sanitizer at Fred Me...  ...           30\n",
            "2  Find out how you can protect yourself and love...  ...           13\n",
            "3  #Panic buying hits #NewYork City as anxious sh...  ...           37\n",
            "4  #toiletpaper #dunnypaper #coronavirus #coronav...  ...           26\n",
            "\n",
            "[5 rows x 5 columns]\n"
          ]
        }
      ]
    },
    {
      "cell_type": "code",
      "metadata": {
        "colab": {
          "base_uri": "https://localhost:8080/"
        },
        "id": "sJu-QLb0JSdx",
        "outputId": "86acba8a-bd4b-42ce-f9f3-816a66aff4e5"
      },
      "source": [
        "df['characters_per_word'] = df['character_cnt']/df['word_counts']\n",
        "print(df.groupby('result')['characters_per_word'].mean())\n",
        "print(df.head())"
      ],
      "execution_count": null,
      "outputs": [
        {
          "output_type": "stream",
          "name": "stdout",
          "text": [
            "result\n",
            "Negative    6.569548\n",
            "Neutral     7.395562\n",
            "Positive    6.623893\n",
            "Name: characters_per_word, dtype: float64\n",
            "                                                Text  ...  characters_per_word\n",
            "0  TRENDING: New Yorkers encounter empty supermar...  ...             9.913043\n",
            "1  When I couldn't find hand sanitizer at Fred Me...  ...             6.433333\n",
            "2  Find out how you can protect yourself and love...  ...             5.615385\n",
            "3  #Panic buying hits #NewYork City as anxious sh...  ...             8.594595\n",
            "4  #toiletpaper #dunnypaper #coronavirus #coronav...  ...             9.692308\n",
            "\n",
            "[5 rows x 7 columns]\n"
          ]
        }
      ]
    },
    {
      "cell_type": "code",
      "metadata": {
        "colab": {
          "base_uri": "https://localhost:8080/",
          "height": 204
        },
        "id": "VF5kBQdvJWsJ",
        "outputId": "2e74a6d1-0142-4d18-fb28-2745cb874c73"
      },
      "source": [
        "df['special_characters'] = df['Text'].apply(lambda x: len([x for x in x.split() if x.startswith('@')]))\n",
        "df[['Text','special_characters']].head()\n"
      ],
      "execution_count": null,
      "outputs": [
        {
          "output_type": "execute_result",
          "data": {
            "text/html": [
              "<div>\n",
              "<style scoped>\n",
              "    .dataframe tbody tr th:only-of-type {\n",
              "        vertical-align: middle;\n",
              "    }\n",
              "\n",
              "    .dataframe tbody tr th {\n",
              "        vertical-align: top;\n",
              "    }\n",
              "\n",
              "    .dataframe thead th {\n",
              "        text-align: right;\n",
              "    }\n",
              "</style>\n",
              "<table border=\"1\" class=\"dataframe\">\n",
              "  <thead>\n",
              "    <tr style=\"text-align: right;\">\n",
              "      <th></th>\n",
              "      <th>Text</th>\n",
              "      <th>special_characters</th>\n",
              "    </tr>\n",
              "  </thead>\n",
              "  <tbody>\n",
              "    <tr>\n",
              "      <th>0</th>\n",
              "      <td>TRENDING: New Yorkers encounter empty supermar...</td>\n",
              "      <td>0</td>\n",
              "    </tr>\n",
              "    <tr>\n",
              "      <th>1</th>\n",
              "      <td>When I couldn't find hand sanitizer at Fred Me...</td>\n",
              "      <td>0</td>\n",
              "    </tr>\n",
              "    <tr>\n",
              "      <th>2</th>\n",
              "      <td>Find out how you can protect yourself and love...</td>\n",
              "      <td>0</td>\n",
              "    </tr>\n",
              "    <tr>\n",
              "      <th>3</th>\n",
              "      <td>#Panic buying hits #NewYork City as anxious sh...</td>\n",
              "      <td>0</td>\n",
              "    </tr>\n",
              "    <tr>\n",
              "      <th>4</th>\n",
              "      <td>#toiletpaper #dunnypaper #coronavirus #coronav...</td>\n",
              "      <td>0</td>\n",
              "    </tr>\n",
              "  </tbody>\n",
              "</table>\n",
              "</div>"
            ],
            "text/plain": [
              "                                                Text  special_characters\n",
              "0  TRENDING: New Yorkers encounter empty supermar...                   0\n",
              "1  When I couldn't find hand sanitizer at Fred Me...                   0\n",
              "2  Find out how you can protect yourself and love...                   0\n",
              "3  #Panic buying hits #NewYork City as anxious sh...                   0\n",
              "4  #toiletpaper #dunnypaper #coronavirus #coronav...                   0"
            ]
          },
          "metadata": {},
          "execution_count": 14
        }
      ]
    },
    {
      "cell_type": "code",
      "metadata": {
        "colab": {
          "base_uri": "https://localhost:8080/"
        },
        "id": "BSbEvNX4_rcn",
        "outputId": "03b50f55-f862-4927-8108-fe8af141f557"
      },
      "source": [
        "df['num'] = df['Text'].apply(lambda x: len([x for x in x.split() if x.isdigit()]))\n",
        "print(df.groupby('result')['num'].mean())\n",
        "print(df.head())"
      ],
      "execution_count": null,
      "outputs": [
        {
          "output_type": "stream",
          "name": "stdout",
          "text": [
            "result\n",
            "Negative    0.196571\n",
            "Neutral     0.190630\n",
            "Positive    0.176585\n",
            "Name: num, dtype: float64\n",
            "                                                Text  ...  num\n",
            "0  TRENDING: New Yorkers encounter empty supermar...  ...    0\n",
            "1  When I couldn't find hand sanitizer at Fred Me...  ...    1\n",
            "2  Find out how you can protect yourself and love...  ...    0\n",
            "3  #Panic buying hits #NewYork City as anxious sh...  ...    0\n",
            "4  #toiletpaper #dunnypaper #coronavirus #coronav...  ...    0\n",
            "\n",
            "[5 rows x 9 columns]\n"
          ]
        }
      ]
    },
    {
      "cell_type": "code",
      "metadata": {
        "colab": {
          "base_uri": "https://localhost:8080/",
          "height": 419
        },
        "id": "dhEb7XFA_xjW",
        "outputId": "401d364a-1354-4974-efd8-39d2b819a958"
      },
      "source": [
        "\n",
        "df['processedtext'] = df['Text'].str.replace('[^\\w\\s]','',regex=True) \n",
        "df['processedtext'] = df['processedtext'].apply(lambda x: \" \".join(x for x in x.split() if x not in stop))\n",
        "df['processedtext'] = df['processedtext'].apply(lambda x: \" \".join(x.lower() for x in x.split()))\n",
        "\n",
        "#Lines 4 to 6\n",
        "from nltk.stem import PorterStemmer\n",
        "stemmer = PorterStemmer()\n",
        "df['processedtext'] = df['processedtext'].apply(lambda x: \" \".join([stemmer.stem(word) for word in x.split()]))\n",
        "\n",
        "df[['character_cnt','word_counts','characters_per_word', 'special_characters', 'num', 'processedtext']].head()\n",
        "df = df[['Text', 'sentiment','character_cnt','word_counts','characters_per_word','special_characters','num','result']]\n",
        "df.to_csv('processed.csv', index=False)\n",
        "df"
      ],
      "execution_count": null,
      "outputs": [
        {
          "output_type": "execute_result",
          "data": {
            "text/html": [
              "<div>\n",
              "<style scoped>\n",
              "    .dataframe tbody tr th:only-of-type {\n",
              "        vertical-align: middle;\n",
              "    }\n",
              "\n",
              "    .dataframe tbody tr th {\n",
              "        vertical-align: top;\n",
              "    }\n",
              "\n",
              "    .dataframe thead th {\n",
              "        text-align: right;\n",
              "    }\n",
              "</style>\n",
              "<table border=\"1\" class=\"dataframe\">\n",
              "  <thead>\n",
              "    <tr style=\"text-align: right;\">\n",
              "      <th></th>\n",
              "      <th>Text</th>\n",
              "      <th>sentiment</th>\n",
              "      <th>character_cnt</th>\n",
              "      <th>word_counts</th>\n",
              "      <th>characters_per_word</th>\n",
              "      <th>special_characters</th>\n",
              "      <th>num</th>\n",
              "      <th>result</th>\n",
              "    </tr>\n",
              "  </thead>\n",
              "  <tbody>\n",
              "    <tr>\n",
              "      <th>0</th>\n",
              "      <td>TRENDING: New Yorkers encounter empty supermar...</td>\n",
              "      <td>-1</td>\n",
              "      <td>228</td>\n",
              "      <td>23</td>\n",
              "      <td>9.913043</td>\n",
              "      <td>0</td>\n",
              "      <td>0</td>\n",
              "      <td>Negative</td>\n",
              "    </tr>\n",
              "    <tr>\n",
              "      <th>1</th>\n",
              "      <td>When I couldn't find hand sanitizer at Fred Me...</td>\n",
              "      <td>1</td>\n",
              "      <td>193</td>\n",
              "      <td>30</td>\n",
              "      <td>6.433333</td>\n",
              "      <td>0</td>\n",
              "      <td>1</td>\n",
              "      <td>Positive</td>\n",
              "    </tr>\n",
              "    <tr>\n",
              "      <th>2</th>\n",
              "      <td>Find out how you can protect yourself and love...</td>\n",
              "      <td>1</td>\n",
              "      <td>73</td>\n",
              "      <td>13</td>\n",
              "      <td>5.615385</td>\n",
              "      <td>0</td>\n",
              "      <td>0</td>\n",
              "      <td>Positive</td>\n",
              "    </tr>\n",
              "    <tr>\n",
              "      <th>3</th>\n",
              "      <td>#Panic buying hits #NewYork City as anxious sh...</td>\n",
              "      <td>-1</td>\n",
              "      <td>318</td>\n",
              "      <td>37</td>\n",
              "      <td>8.594595</td>\n",
              "      <td>0</td>\n",
              "      <td>0</td>\n",
              "      <td>Negative</td>\n",
              "    </tr>\n",
              "    <tr>\n",
              "      <th>4</th>\n",
              "      <td>#toiletpaper #dunnypaper #coronavirus #coronav...</td>\n",
              "      <td>0</td>\n",
              "      <td>252</td>\n",
              "      <td>26</td>\n",
              "      <td>9.692308</td>\n",
              "      <td>0</td>\n",
              "      <td>0</td>\n",
              "      <td>Neutral</td>\n",
              "    </tr>\n",
              "    <tr>\n",
              "      <th>...</th>\n",
              "      <td>...</td>\n",
              "      <td>...</td>\n",
              "      <td>...</td>\n",
              "      <td>...</td>\n",
              "      <td>...</td>\n",
              "      <td>...</td>\n",
              "      <td>...</td>\n",
              "      <td>...</td>\n",
              "    </tr>\n",
              "    <tr>\n",
              "      <th>3793</th>\n",
              "      <td>Meanwhile In A Supermarket in Israel -- People...</td>\n",
              "      <td>1</td>\n",
              "      <td>127</td>\n",
              "      <td>18</td>\n",
              "      <td>7.055556</td>\n",
              "      <td>0</td>\n",
              "      <td>0</td>\n",
              "      <td>Positive</td>\n",
              "    </tr>\n",
              "    <tr>\n",
              "      <th>3794</th>\n",
              "      <td>Did you panic buy a lot of non-perishable item...</td>\n",
              "      <td>-1</td>\n",
              "      <td>213</td>\n",
              "      <td>34</td>\n",
              "      <td>6.264706</td>\n",
              "      <td>0</td>\n",
              "      <td>0</td>\n",
              "      <td>Negative</td>\n",
              "    </tr>\n",
              "    <tr>\n",
              "      <th>3795</th>\n",
              "      <td>Asst Prof of Economics @cconces was on @NBCPhi...</td>\n",
              "      <td>0</td>\n",
              "      <td>185</td>\n",
              "      <td>26</td>\n",
              "      <td>7.115385</td>\n",
              "      <td>2</td>\n",
              "      <td>0</td>\n",
              "      <td>Neutral</td>\n",
              "    </tr>\n",
              "    <tr>\n",
              "      <th>3796</th>\n",
              "      <td>Gov need to do somethings instead of biar je r...</td>\n",
              "      <td>-1</td>\n",
              "      <td>174</td>\n",
              "      <td>29</td>\n",
              "      <td>6.000000</td>\n",
              "      <td>0</td>\n",
              "      <td>0</td>\n",
              "      <td>Negative</td>\n",
              "    </tr>\n",
              "    <tr>\n",
              "      <th>3797</th>\n",
              "      <td>I and @ForestandPaper members are committed to...</td>\n",
              "      <td>1</td>\n",
              "      <td>254</td>\n",
              "      <td>33</td>\n",
              "      <td>7.696970</td>\n",
              "      <td>1</td>\n",
              "      <td>0</td>\n",
              "      <td>Positive</td>\n",
              "    </tr>\n",
              "  </tbody>\n",
              "</table>\n",
              "<p>3798 rows × 8 columns</p>\n",
              "</div>"
            ],
            "text/plain": [
              "                                                   Text  ...    result\n",
              "0     TRENDING: New Yorkers encounter empty supermar...  ...  Negative\n",
              "1     When I couldn't find hand sanitizer at Fred Me...  ...  Positive\n",
              "2     Find out how you can protect yourself and love...  ...  Positive\n",
              "3     #Panic buying hits #NewYork City as anxious sh...  ...  Negative\n",
              "4     #toiletpaper #dunnypaper #coronavirus #coronav...  ...   Neutral\n",
              "...                                                 ...  ...       ...\n",
              "3793  Meanwhile In A Supermarket in Israel -- People...  ...  Positive\n",
              "3794  Did you panic buy a lot of non-perishable item...  ...  Negative\n",
              "3795  Asst Prof of Economics @cconces was on @NBCPhi...  ...   Neutral\n",
              "3796  Gov need to do somethings instead of biar je r...  ...  Negative\n",
              "3797  I and @ForestandPaper members are committed to...  ...  Positive\n",
              "\n",
              "[3798 rows x 8 columns]"
            ]
          },
          "metadata": {},
          "execution_count": 16
        }
      ]
    },
    {
      "cell_type": "markdown",
      "metadata": {
        "id": "DPAcGq1zhTo1"
      },
      "source": [
        "Question 3 (10 points): Use any of the feature selection methods mentioned in this paper \"Deng, X., Li, Y., Weng, J., & Zhang, J. (2019). Feature selection for text classification: A review. Multimedia Tools & Applications, 78(3).\" Select the most important features you extracted above, rank the features based on their importance in the descending order. "
      ]
    },
    {
      "cell_type": "code",
      "metadata": {
        "id": "bkBc7YqNhTo1",
        "colab": {
          "base_uri": "https://localhost:8080/"
        },
        "outputId": "089b396d-31db-4c93-d9a9-5c795e68f6b2"
      },
      "source": [
        "import numpy as numpy\n",
        "import pandas as pd\n",
        "import seaborn as sns\n",
        "from sklearn.preprocessing import LabelEncoder\n",
        "\n",
        "\n",
        "label_encoder = LabelEncoder()\n",
        "df['Text'] = label_encoder.fit_transform(df['Text'])\n",
        "df['result'] = label_encoder.fit_transform(df['result'])\n",
        "df['sentiment'] = label_encoder.fit_transform(df['sentiment'])\n",
        "\n",
        "\n",
        "\n"
      ],
      "execution_count": null,
      "outputs": [
        {
          "output_type": "stream",
          "name": "stderr",
          "text": [
            "/usr/local/lib/python3.7/dist-packages/ipykernel_launcher.py:8: SettingWithCopyWarning: \n",
            "A value is trying to be set on a copy of a slice from a DataFrame.\n",
            "Try using .loc[row_indexer,col_indexer] = value instead\n",
            "\n",
            "See the caveats in the documentation: https://pandas.pydata.org/pandas-docs/stable/user_guide/indexing.html#returning-a-view-versus-a-copy\n",
            "  \n",
            "/usr/local/lib/python3.7/dist-packages/ipykernel_launcher.py:9: SettingWithCopyWarning: \n",
            "A value is trying to be set on a copy of a slice from a DataFrame.\n",
            "Try using .loc[row_indexer,col_indexer] = value instead\n",
            "\n",
            "See the caveats in the documentation: https://pandas.pydata.org/pandas-docs/stable/user_guide/indexing.html#returning-a-view-versus-a-copy\n",
            "  if __name__ == '__main__':\n",
            "/usr/local/lib/python3.7/dist-packages/ipykernel_launcher.py:10: SettingWithCopyWarning: \n",
            "A value is trying to be set on a copy of a slice from a DataFrame.\n",
            "Try using .loc[row_indexer,col_indexer] = value instead\n",
            "\n",
            "See the caveats in the documentation: https://pandas.pydata.org/pandas-docs/stable/user_guide/indexing.html#returning-a-view-versus-a-copy\n",
            "  # Remove the CWD from sys.path while we load stuff.\n"
          ]
        }
      ]
    },
    {
      "cell_type": "code",
      "metadata": {
        "colab": {
          "base_uri": "https://localhost:8080/",
          "height": 204
        },
        "id": "MQOrUCrPCl5B",
        "outputId": "3b04f906-1793-48c8-dba0-bcd526d11ed5"
      },
      "source": [
        "df.head()"
      ],
      "execution_count": null,
      "outputs": [
        {
          "output_type": "execute_result",
          "data": {
            "text/html": [
              "<div>\n",
              "<style scoped>\n",
              "    .dataframe tbody tr th:only-of-type {\n",
              "        vertical-align: middle;\n",
              "    }\n",
              "\n",
              "    .dataframe tbody tr th {\n",
              "        vertical-align: top;\n",
              "    }\n",
              "\n",
              "    .dataframe thead th {\n",
              "        text-align: right;\n",
              "    }\n",
              "</style>\n",
              "<table border=\"1\" class=\"dataframe\">\n",
              "  <thead>\n",
              "    <tr style=\"text-align: right;\">\n",
              "      <th></th>\n",
              "      <th>Text</th>\n",
              "      <th>sentiment</th>\n",
              "      <th>character_cnt</th>\n",
              "      <th>word_counts</th>\n",
              "      <th>characters_per_word</th>\n",
              "      <th>special_characters</th>\n",
              "      <th>num</th>\n",
              "      <th>result</th>\n",
              "    </tr>\n",
              "  </thead>\n",
              "  <tbody>\n",
              "    <tr>\n",
              "      <th>0</th>\n",
              "      <td>2906</td>\n",
              "      <td>0</td>\n",
              "      <td>228</td>\n",
              "      <td>23</td>\n",
              "      <td>9.913043</td>\n",
              "      <td>0</td>\n",
              "      <td>0</td>\n",
              "      <td>0</td>\n",
              "    </tr>\n",
              "    <tr>\n",
              "      <th>1</th>\n",
              "      <td>3463</td>\n",
              "      <td>2</td>\n",
              "      <td>193</td>\n",
              "      <td>30</td>\n",
              "      <td>6.433333</td>\n",
              "      <td>0</td>\n",
              "      <td>1</td>\n",
              "      <td>2</td>\n",
              "    </tr>\n",
              "    <tr>\n",
              "      <th>2</th>\n",
              "      <td>1252</td>\n",
              "      <td>2</td>\n",
              "      <td>73</td>\n",
              "      <td>13</td>\n",
              "      <td>5.615385</td>\n",
              "      <td>0</td>\n",
              "      <td>0</td>\n",
              "      <td>2</td>\n",
              "    </tr>\n",
              "    <tr>\n",
              "      <th>3</th>\n",
              "      <td>152</td>\n",
              "      <td>0</td>\n",
              "      <td>318</td>\n",
              "      <td>37</td>\n",
              "      <td>8.594595</td>\n",
              "      <td>0</td>\n",
              "      <td>0</td>\n",
              "      <td>0</td>\n",
              "    </tr>\n",
              "    <tr>\n",
              "      <th>4</th>\n",
              "      <td>208</td>\n",
              "      <td>1</td>\n",
              "      <td>252</td>\n",
              "      <td>26</td>\n",
              "      <td>9.692308</td>\n",
              "      <td>0</td>\n",
              "      <td>0</td>\n",
              "      <td>1</td>\n",
              "    </tr>\n",
              "  </tbody>\n",
              "</table>\n",
              "</div>"
            ],
            "text/plain": [
              "   Text  sentiment  character_cnt  ...  special_characters  num  result\n",
              "0  2906          0            228  ...                   0    0       0\n",
              "1  3463          2            193  ...                   0    1       2\n",
              "2  1252          2             73  ...                   0    0       2\n",
              "3   152          0            318  ...                   0    0       0\n",
              "4   208          1            252  ...                   0    0       1\n",
              "\n",
              "[5 rows x 8 columns]"
            ]
          },
          "metadata": {},
          "execution_count": 18
        }
      ]
    },
    {
      "cell_type": "code",
      "metadata": {
        "id": "lCL8_QkfCqsF"
      },
      "source": [
        "from sklearn.feature_selection import chi2\n",
        "\n",
        "\n",
        "X = df.drop('result',axis=1)\n",
        "y = df['result']\n",
        "\n",
        "scores = chi2(X,y)"
      ],
      "execution_count": null,
      "outputs": []
    },
    {
      "cell_type": "code",
      "metadata": {
        "colab": {
          "base_uri": "https://localhost:8080/"
        },
        "id": "NwujG5q7DAop",
        "outputId": "3a3496b3-5f48-4c33-9a0b-edb3cb6fe93f"
      },
      "source": [
        "scores"
      ],
      "execution_count": null,
      "outputs": [
        {
          "output_type": "execute_result",
          "data": {
            "text/plain": [
              "(array([2.06589950e+03, 3.25148828e+03, 7.24588966e+03, 1.81722211e+03,\n",
              "        4.95955944e+01, 3.46621725e+00, 1.73158728e+00]),\n",
              " array([0.00000000e+00, 0.00000000e+00, 0.00000000e+00, 0.00000000e+00,\n",
              "        1.70001801e-11, 1.76734155e-01, 4.20717522e-01]))"
            ]
          },
          "metadata": {},
          "execution_count": 25
        }
      ]
    },
    {
      "cell_type": "code",
      "metadata": {
        "id": "Ar96_PEkDH_u"
      },
      "source": [
        "p_values = pd.Series(scores[1],index = X.columns)\n",
        "p_values.sort_values(ascending = False , inplace = True)"
      ],
      "execution_count": null,
      "outputs": []
    },
    {
      "cell_type": "code",
      "metadata": {
        "colab": {
          "base_uri": "https://localhost:8080/",
          "height": 376
        },
        "id": "Rf8JhDQdDNuJ",
        "outputId": "24b48b19-697f-488a-ee34-156ebbc0924a"
      },
      "source": [
        "p_values.plot.bar()"
      ],
      "execution_count": null,
      "outputs": [
        {
          "output_type": "execute_result",
          "data": {
            "text/plain": [
              "<matplotlib.axes._subplots.AxesSubplot at 0x7f13558e5f50>"
            ]
          },
          "metadata": {},
          "execution_count": 27
        },
        {
          "output_type": "display_data",
          "data": {
            "image/png": "[encoded data removed]",
            "text/plain": [
              "<Figure size 432x288 with 1 Axes>"
            ]
          },
          "metadata": {
            "needs_background": "light"
          }
        }
      ]
    }
  ]
}